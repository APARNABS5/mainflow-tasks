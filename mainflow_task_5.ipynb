{
  "nbformat": 4,
  "nbformat_minor": 0,
  "metadata": {
    "colab": {
      "provenance": []
    },
    "kernelspec": {
      "name": "python3",
      "display_name": "Python 3"
    },
    "language_info": {
      "name": "python"
    }
  },
  "cells": [
    {
      "cell_type": "code",
      "source": [
        "import pandas as pd\n",
        "from sklearn.preprocessing import StandardScaler\n",
        "from sklearn.decomposition import PCA\n",
        "from sklearn.ensemble import RandomForestClassifier\n",
        "from sklearn.model_selection import cross_val_score"
      ],
      "metadata": {
        "id": "0GcOufm8Gjg-"
      },
      "execution_count": 2,
      "outputs": []
    },
    {
      "cell_type": "code",
      "source": [
        "data = pd.read_csv('/content/drive/MyDrive/heart.csv')"
      ],
      "metadata": {
        "id": "Z6JPbxegGmDX"
      },
      "execution_count": 3,
      "outputs": []
    },
    {
      "cell_type": "code",
      "source": [
        "print(data.head())\n",
        "print(data.info())"
      ],
      "metadata": {
        "colab": {
          "base_uri": "https://localhost:8080/"
        },
        "id": "iFk3vWtkGpnz",
        "outputId": "713c2010-8f0d-4392-a9ca-43595c36f745"
      },
      "execution_count": 4,
      "outputs": [
        {
          "output_type": "stream",
          "name": "stdout",
          "text": [
            "   age  sex  cp  trtbps  chol  fbs  restecg  thalachh  exng  oldpeak  slp  \\\n",
            "0   63    1   3     145   233    1        0       150     0      2.3    0   \n",
            "1   37    1   2     130   250    0        1       187     0      3.5    0   \n",
            "2   41    0   1     130   204    0        0       172     0      1.4    2   \n",
            "3   56    1   1     120   236    0        1       178     0      0.8    2   \n",
            "4   57    0   0     120   354    0        1       163     1      0.6    2   \n",
            "\n",
            "   caa  thall  output  \n",
            "0    0      1       1  \n",
            "1    0      2       1  \n",
            "2    0      2       1  \n",
            "3    0      2       1  \n",
            "4    0      2       1  \n",
            "<class 'pandas.core.frame.DataFrame'>\n",
            "RangeIndex: 303 entries, 0 to 302\n",
            "Data columns (total 14 columns):\n",
            " #   Column    Non-Null Count  Dtype  \n",
            "---  ------    --------------  -----  \n",
            " 0   age       303 non-null    int64  \n",
            " 1   sex       303 non-null    int64  \n",
            " 2   cp        303 non-null    int64  \n",
            " 3   trtbps    303 non-null    int64  \n",
            " 4   chol      303 non-null    int64  \n",
            " 5   fbs       303 non-null    int64  \n",
            " 6   restecg   303 non-null    int64  \n",
            " 7   thalachh  303 non-null    int64  \n",
            " 8   exng      303 non-null    int64  \n",
            " 9   oldpeak   303 non-null    float64\n",
            " 10  slp       303 non-null    int64  \n",
            " 11  caa       303 non-null    int64  \n",
            " 12  thall     303 non-null    int64  \n",
            " 13  output    303 non-null    int64  \n",
            "dtypes: float64(1), int64(13)\n",
            "memory usage: 33.3 KB\n",
            "None\n"
          ]
        }
      ]
    },
    {
      "cell_type": "code",
      "source": [
        "print(data.describe())"
      ],
      "metadata": {
        "colab": {
          "base_uri": "https://localhost:8080/"
        },
        "id": "TDoFgRmJGs4-",
        "outputId": "52902c63-47f0-47fa-e992-51cb4ac1bd8b"
      },
      "execution_count": 5,
      "outputs": [
        {
          "output_type": "stream",
          "name": "stdout",
          "text": [
            "              age         sex          cp      trtbps        chol         fbs  \\\n",
            "count  303.000000  303.000000  303.000000  303.000000  303.000000  303.000000   \n",
            "mean    54.366337    0.683168    0.966997  131.623762  246.264026    0.148515   \n",
            "std      9.082101    0.466011    1.032052   17.538143   51.830751    0.356198   \n",
            "min     29.000000    0.000000    0.000000   94.000000  126.000000    0.000000   \n",
            "25%     47.500000    0.000000    0.000000  120.000000  211.000000    0.000000   \n",
            "50%     55.000000    1.000000    1.000000  130.000000  240.000000    0.000000   \n",
            "75%     61.000000    1.000000    2.000000  140.000000  274.500000    0.000000   \n",
            "max     77.000000    1.000000    3.000000  200.000000  564.000000    1.000000   \n",
            "\n",
            "          restecg    thalachh        exng     oldpeak         slp         caa  \\\n",
            "count  303.000000  303.000000  303.000000  303.000000  303.000000  303.000000   \n",
            "mean     0.528053  149.646865    0.326733    1.039604    1.399340    0.729373   \n",
            "std      0.525860   22.905161    0.469794    1.161075    0.616226    1.022606   \n",
            "min      0.000000   71.000000    0.000000    0.000000    0.000000    0.000000   \n",
            "25%      0.000000  133.500000    0.000000    0.000000    1.000000    0.000000   \n",
            "50%      1.000000  153.000000    0.000000    0.800000    1.000000    0.000000   \n",
            "75%      1.000000  166.000000    1.000000    1.600000    2.000000    1.000000   \n",
            "max      2.000000  202.000000    1.000000    6.200000    2.000000    4.000000   \n",
            "\n",
            "            thall      output  \n",
            "count  303.000000  303.000000  \n",
            "mean     2.313531    0.544554  \n",
            "std      0.612277    0.498835  \n",
            "min      0.000000    0.000000  \n",
            "25%      2.000000    0.000000  \n",
            "50%      2.000000    1.000000  \n",
            "75%      3.000000    1.000000  \n",
            "max      3.000000    1.000000  \n"
          ]
        }
      ]
    },
    {
      "cell_type": "code",
      "source": [
        "data['age_group'] = pd.cut(data['age'], bins=[0, 40, 50, 60, 100], labels=['<40', '40-50', '50-60', '60+'])\n",
        "data['chol_category'] = pd.cut(data['chol'], bins=[0, 200, 239, 1000], labels=['normal', 'borderline', 'high'])\n",
        "data['age_chol'] = data['age'] * data['chol']\n",
        "data['thalach_age'] = data['thalachh'] * data['age']"
      ],
      "metadata": {
        "id": "K8SpeNnWGwF6"
      },
      "execution_count": 6,
      "outputs": []
    },
    {
      "cell_type": "code",
      "source": [
        "features = data.drop(columns=['output', 'age_group', 'chol_category'])\n",
        "features = pd.get_dummies(features, drop_first=True)"
      ],
      "metadata": {
        "id": "0XvTAR5mGzU-"
      },
      "execution_count": 7,
      "outputs": []
    },
    {
      "cell_type": "code",
      "source": [
        "# Scale features\n",
        "scaler = StandardScaler()\n",
        "features_scaled = scaler.fit_transform(features)\n",
        "\n",
        "# Perform PCA\n",
        "pca = PCA(n_components=0.95)  # Retain 95% of the variance\n",
        "features_pca = pca.fit_transform(features_scaled)\n",
        "\n",
        "# Output PCA results\n",
        "explained_variance = pca.explained_variance_ratio_\n",
        "n_components = pca.n_components_\n",
        "\n",
        "print(features_pca.shape)\n",
        "print(explained_variance)\n",
        "print(n_components)\n"
      ],
      "metadata": {
        "colab": {
          "base_uri": "https://localhost:8080/"
        },
        "id": "v5AhBudQG2xg",
        "outputId": "fb223593-d55a-46ec-adba-1d5bb74d2ad6"
      },
      "execution_count": 8,
      "outputs": [
        {
          "output_type": "stream",
          "name": "stdout",
          "text": [
            "(303, 12)\n",
            "[0.20769271 0.1671179  0.09044119 0.08171712 0.06844876 0.06815014\n",
            " 0.05846558 0.05555468 0.05028512 0.04747908 0.04314118 0.03525778]\n",
            "12\n"
          ]
        }
      ]
    },
    {
      "cell_type": "code",
      "source": [
        "# Train RandomForestClassifier with all features\n",
        "X = pd.get_dummies(data.drop(columns=['output', 'age_group', 'chol_category']), drop_first=True)\n",
        "y = data['output']\n",
        "\n",
        "rf_model = RandomForestClassifier(n_estimators=100, random_state=42)\n",
        "rf_model.fit(X, y)\n",
        "\n",
        "# Extract and display feature importances\n",
        "feature_importances = rf_model.feature_importances_\n",
        "important_features = pd.Series(feature_importances, index=X.columns).sort_values(ascending=False)\n",
        "\n",
        "print(important_features.head(15))\n",
        "\n",
        "# Train RandomForestClassifier using only the top 15 important features\n",
        "top_features = important_features.head(15).index\n",
        "X_top = X[top_features]\n",
        "\n",
        "rf_model_top = RandomForestClassifier(n_estimators=100, random_state=42)\n",
        "rf_model_top.fit(X_top, y)\n",
        "\n",
        "# Perform cross-validation\n",
        "scores = cross_val_score(rf_model_top, X_top, y, cv=5)\n",
        "print(f'Cross-validated scores: {scores}')\n",
        "print(f'Mean score: {scores.mean()}')"
      ],
      "metadata": {
        "colab": {
          "base_uri": "https://localhost:8080/"
        },
        "id": "tjiWj8vlHbZ9",
        "outputId": "200423fd-2615-43ca-ac56-bf6454809b56"
      },
      "execution_count": 9,
      "outputs": [
        {
          "output_type": "stream",
          "name": "stdout",
          "text": [
            "cp             0.121679\n",
            "oldpeak        0.110464\n",
            "caa            0.104801\n",
            "thalachh       0.102865\n",
            "thall          0.098752\n",
            "thalach_age    0.078321\n",
            "age_chol       0.067467\n",
            "age            0.064543\n",
            "chol           0.057642\n",
            "trtbps         0.057511\n",
            "exng           0.045652\n",
            "slp            0.041447\n",
            "sex            0.028861\n",
            "restecg        0.013131\n",
            "fbs            0.006862\n",
            "dtype: float64\n",
            "Cross-validated scores: [0.83606557 0.86885246 0.78688525 0.78333333 0.8       ]\n",
            "Mean score: 0.8150273224043716\n"
          ]
        }
      ]
    }
  ]
}